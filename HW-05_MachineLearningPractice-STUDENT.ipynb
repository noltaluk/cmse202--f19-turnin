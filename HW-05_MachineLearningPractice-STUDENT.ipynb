{
 "cells": [
  {
   "cell_type": "markdown",
   "metadata": {},
   "source": [
    "### <p style=\"text-align: right;\"> &#9989; Lukas Nolta</p>"
   ]
  },
  {
   "cell_type": "markdown",
   "metadata": {},
   "source": [
    "# Homework #5: Practice with Machine Learning Classification (Individual)\n",
    "\n",
    "<img src=\"https://miro.medium.com/max/2008/1*i3n0kZW7P6OxcUwTRTitSg.png\" width=500px>"
   ]
  },
  {
   "cell_type": "markdown",
   "metadata": {},
   "source": [
    "In this assignment, you'll work on finishing your perceptron binary classifier or find an example online that you can copy (with proper citation!), modify as necessary, and then run on the iris data file from class. If you already managed to get the perceptron model to work in class, you'll be asked to find a version online and compare it to your solution. The details of all of this are include in Part 1 in the text below.\n",
    "\n",
    "After that you'll practice using scikit-learn to classify data using a classification model of your choosing. This should help you to become more comfortable with using scikit-learn, which may be helpful for you semester project, depending on what topic you chose to pursue.\n",
    "\n",
    "**You are encouraged to read through the entire assignment before you start to make sure you understand what you're expected to do.**\n",
    "\n",
    "### Goals for this assignment:\n",
    "\n",
    "By the end of this assignment, you should be able to:\n",
    "\n",
    "* Use the perceptron model to classify linearly separable data.\n",
    "* Use one of the built-in classification models in scikit-learn to classify new data.\n",
    "\n",
    "### Assignment instructions\n",
    "\n",
    "**This assignment is due at 11:59pm on Friday, November 15th.** This is an individual assignment, but you should feel free to discuss issues you run into in the CMSE 202 \"help\" channel on Slack. When you're done, it should be uploaded into the \"Homework Assignments\" submission folder for Homework #5. Further submission instructions can be found at the end of the notebook.\n",
    "\n",
    "### Grading\n",
    "\n",
    "* Part 1: Completing and testing the perceptron model (10 points)\n",
    "* Part 2: Using scikit-learn to classify data (20 points + 2 possible bonus points)\n",
    "\n",
    "Total points: **30** (+2 possible bonus points)"
   ]
  },
  {
   "cell_type": "markdown",
   "metadata": {},
   "source": [
    "---\n",
    "## Part 1: Using the perceptron model to classify data\n",
    "\n"
   ]
  },
  {
   "cell_type": "markdown",
   "metadata": {},
   "source": [
    "In your Day 15 in-class assignment you worked toward building the perceptron classifier from scratch. For this part of the homework assignment **you need to accomplish one of the following options**:\n",
    "\n",
    "1. If you did not finish writing and testing your perceptron class and would like to do so, you should do that here. You should review the details of the perceptron model from the Day 15 in-class assignment. You should make sure that your classifier works with the `binary-iris.csv` file from class (which is also included in the homework directory of the assignments repository). You should also make the plot that shows the decision boundary along with the data (the steps for plotting the decision boundary are also included in the Day 15 in-class assignment).\n",
    "\n",
    "2. If you did not finish writing and testing your perceptron class, but are not confident that you were headed down the path with designing your method, you are encourage to find an example on the internet, reproduce it here, cite your source, and run the classifier on the `binary-iris.csv` file from class. Once you get the code working, you should make sure you produce a plot that displays the data and a line for the decision boundary (as described in the in-class assignment).\n",
    "\n",
    "3. If you *did* get your perceptron model working, reproduce it here and confirm that it produces the expected decision boundary by producing a plot. In addition to this, find some example Python code for the perceptron model online, provide a link to the example, review the approach used in the example, and highlight how the approach differed from your approach. Is there anything from the example that you think is better than your solution? Anything that you think is worse? Include this discussion in your assignment."
   ]
  },
  {
   "cell_type": "markdown",
   "metadata": {},
   "source": [
    "**Which of the above three options are you completing for this assignment?**"
   ]
  },
  {
   "cell_type": "markdown",
   "metadata": {},
   "source": [
    "I think I will go with option #2 for this part of the assignment."
   ]
  },
  {
   "cell_type": "markdown",
   "metadata": {},
   "source": [
    "### Details for building and training the model\n",
    "\n",
    "Remember, when you train the model, you should only use ~75% of the available data as training data and reserve the remaining 25% to performing testing. Once you have a working model, you should **include a test to ensure that the model produces the right classifications on some for you testing data**.\n",
    "\n",
    "You should use the `binary-iris.csv` file contained within the homework directory as your training and testing data.\n",
    "\n",
    "Once everything is working, make sure you plot the data and the decision boundary for your model. \n",
    "\n",
    "**The details for the perceptron model, the suggestions for how to build a class from scratch, and the details for plotting the decision boundary are all included in the Day 15 in-class assignment. Use that assignment as a reference when creating your final solution**.\n",
    "\n",
    "If you decide to use an example from the internet, **make sure to include a proper citation or link to the source!** If you do not, you will not receive full points."
   ]
  },
  {
   "cell_type": "code",
   "execution_count": 309,
   "metadata": {},
   "outputs": [
    {
     "data": {
      "text/plain": [
       "100"
      ]
     },
     "execution_count": 309,
     "metadata": {},
     "output_type": "execute_result"
    },
    {
     "data": {
      "image/png": "[encoded data removed]",
      "text/plain": [
       "<Figure size 432x288 with 1 Axes>"
      ]
     },
     "metadata": {
      "needs_background": "light"
     },
     "output_type": "display_data"
    }
   ],
   "source": [
    "# Put your code here\n",
    "import numpy as np\n",
    "import pandas as pd\n",
    "iris_data = pd.read_csv('binary-iris.csv',skiprows = 1,  header = None)\n",
    "import matplotlib.cm as cm\n",
    "iris_data\n",
    "import matplotlib.pyplot as plt\n",
    "sepal_length =iris_data[0]\n",
    "sepal_width = iris_data[1]\n",
    "sepal_l_sertosa = sepal_length[0:50]\n",
    "sepal_l_versicolor = sepal_length[51:100]\n",
    "\n",
    "sepal_w_sertosa = sepal_width[0:50]\n",
    "sepal_w_versicolor = sepal_width[51:100]\n",
    "\n",
    "plt.scatter(sepal_l_sertosa,sepal_w_sertosa)\n",
    "plt.scatter(sepal_l_versicolor, sepal_w_versicolor)\n",
    "len(iris_data[2])"
   ]
  },
  {
   "cell_type": "code",
   "execution_count": 312,
   "metadata": {},
   "outputs": [],
   "source": [
    "f = open(\"binary-iris.csv\")\n",
    "header = next(f) # dump the header line\n",
    "data = []\n",
    "for line in f:\n",
    "    fields = line.split(\",\")\n",
    "    # need to strip label because, as the last element, it has a \\n\n",
    "    label = (1.0 if fields[2].strip() == \"Iris-setosa\" else -1.0)\n",
    "    # the fields are strings until we conver them\n",
    "    data.append([float(fields[0]), float(fields[1]), label])\n",
    "f.close()\n",
    "\n",
    "class perceptron:\n",
    "    \n",
    "    def __init__(self,no_of_inputs,tv = .01,epochs = 10):\n",
    "        self.tv = tv\n",
    "        self.epochs = epochs\n",
    "        self.weights = np.zeros(no_of_inputs + 1)\n",
    "        \n",
    "    def predict(self,inputs):\n",
    "        summation = np.dot(inputs,self.weights[1:]) + self.weights[0]\n",
    "        if summation > 0:\n",
    "            activation = 1\n",
    "        else:\n",
    "            activation = -1\n",
    "        return activation\n",
    "    def training(self,training_inputs, label):\n",
    "        for _ in range(self.epochs):\n",
    "            for inputs, labels in zip(training_inputs, label):\n",
    "                prediction = self.predict(inputs)\n",
    "                self.weights[1:] += self.tv * (labels - prediction) * inputs\n",
    "                self.weights[0] += self.tv * (labels - prediction)\n",
    "data_array = np.array(data)\n",
    "np.random.shuffle(data_array)\n",
    "training_inputs = data_array[0:75,0:2]\n",
    "training_inputs\n",
    "label = data_array[0:75,2:3]\n",
    "\n",
    "\n"
   ]
  },
  {
   "cell_type": "code",
   "execution_count": 313,
   "metadata": {},
   "outputs": [
    {
     "data": {
      "text/plain": [
       "<matplotlib.collections.PathCollection at 0x1153519b0>"
      ]
     },
     "execution_count": 313,
     "metadata": {},
     "output_type": "execute_result"
    },
    {
     "data": {
      "image/png": "[encoded data removed]",
      "text/plain": [
       "<Figure size 432x288 with 1 Axes>"
      ]
     },
     "metadata": {
      "needs_background": "light"
     },
     "output_type": "display_data"
    }
   ],
   "source": [
    "P2 = perceptron(2)\n",
    "P2.training(training_inputs,label)\n",
    "test_inputs = data_array[76:100,0:2]\n",
    "test_ans = data_array[76:100,2:3]\n",
    "test_ans2 = list(test_ans)\n",
    "results = []\n",
    "for i in test_inputs:\n",
    "    ans = P2.predict(i)\n",
    "    results.append(ans) \n",
    "correct = 0\n",
    "incorrect = 0\n",
    "for i in range(len(test_ans)):\n",
    "    if results[i] == test_ans2[i]:\n",
    "        correct += 1\n",
    "    else:\n",
    "        incorrect += 1\n",
    "x = (-P2.weights[0])/(P2.weights[1])\n",
    "y = (-P2.weights[0])/(P2.weights[2])\n",
    "slope = -(y/x)\n",
    "intercept = y\n",
    "\n",
    "yvals = np.array((data_array[0:100,0:1]) * slope + y)\n",
    "plt.plot(data_array[0:100,0:1],yvals, 'g')\n",
    "plt.scatter(sepal_l_sertosa,sepal_w_sertosa)\n",
    "plt.scatter(sepal_l_versicolor, sepal_w_versicolor)"
   ]
  },
  {
   "cell_type": "markdown",
   "metadata": {},
   "source": [
    "https://medium.com/@thomascountz/19-line-line-by-line-python-perceptron-b6f113b161f3 \n",
    "This is the only real resource I used to complete my perceptron model."
   ]
  },
  {
   "cell_type": "markdown",
   "metadata": {},
   "source": [
    "<font size=30> &#9998;</font> If you chose \"Option 3\" from above, make sure to include a discussion of how your solution differed from the solution you found line."
   ]
  },
  {
   "cell_type": "markdown",
   "metadata": {},
   "source": [
    "---\n",
    "## Part 2: Classifying data using scikit-learn\n",
    "\n",
    "This part of the assignment is intentionally a bit open-ended to give you the opportunity to chose a dataset that you find interesting and practice using a classification method from [scikit-learn](http://scikit-learn.org/stable/), one of the most commonly used packages for doing machine learning in Python.\n",
    "\n",
    "For this part of the assignment, you are tasked with choosing an available dataset from the [University of California Irvine Machine Learning Repository](https://archive.ics.uci.edu/ml/index.php) and performing a classification on it using scikit-learn. Not only are you allowed to choose the dataset you want to use, but you can also choose which machine learning classification scheme you want to use. scikit-learn offers [many classification options](http://scikit-learn.org/stable/supervised_learning.html#supervised-learning) and you can see that they generate [many different types of decision boundaries](http://scikit-learn.org/stable/auto_examples/classification/plot_classifier_comparison.html).\n",
    "\n",
    "When choosing a dataset, you should make sure to choose a dataset that is well-suited for performing classification. Luckily, the UCI repository [makes this easy](https://archive.ics.uci.edu/ml/datasets.php?format=&task=cla&att=&area=&numAtt=&numIns=&type=&sort=nameUp&view=table).\n",
    "\n",
    "For this part of the assignment, **you need to**:\n",
    "\n",
    "* Choose and link to a dataset from the UCI machine learning repository\n",
    "* Choose a classification method from the availables options in scikit-learn\n",
    "* Build your classifier by training the model\n",
    "* Test you classifier to determine its accuracy\n",
    "* Bonus points: visualize the decision boundaries of your classifier. (this part can be tricky, so it is not required that you get it working, but you will receive 2 extra points if you do)\n",
    "\n",
    "**Make sure your upload your chosen dataset to D2L along with your notebook or include a command to download the file within the notebook!**"
   ]
  },
  {
   "cell_type": "code",
   "execution_count": null,
   "metadata": {},
   "outputs": [],
   "source": [
    "# Put your code here\n"
   ]
  },
  {
   "cell_type": "markdown",
   "metadata": {},
   "source": [
    "---\n",
    "## Assignment wrap-up\n",
    "\n",
    "Please fill out the form that appears when you run the code below.  **You must completely fill this out in order to receive credit for the assignment!**"
   ]
  },
  {
   "cell_type": "code",
   "execution_count": null,
   "metadata": {},
   "outputs": [],
   "source": [
    "from IPython.display import HTML\n",
    "HTML(\n",
    "\"\"\"\n",
    "<iframe \n",
    "\tsrc=\"https://forms.gle/v9KeKoSf8d5qi7PB8\" \n",
    "\twidth=\"800px\" \n",
    "\theight=\"600px\" \n",
    "\tframeborder=\"0\" \n",
    "\tmarginheight=\"0\" \n",
    "\tmarginwidth=\"0\">\n",
    "\tLoading...\n",
    "</iframe>\n",
    "\"\"\"\n",
    ")"
   ]
  },
  {
   "cell_type": "markdown",
   "metadata": {},
   "source": [
    "___\n",
    "# Congrats, you're done!\n",
    "\n",
    "Upload a copy of this notebook to the \"Homework 5\" submission folder on D2L."
   ]
  }
 ],
 "metadata": {
  "kernelspec": {
   "display_name": "Python 3",
   "language": "python",
   "name": "python3"
  },
  "language_info": {
   "codemirror_mode": {
    "name": "ipython",
    "version": 3
   },
   "file_extension": ".py",
   "mimetype": "text/x-python",
   "name": "python",
   "nbconvert_exporter": "python",
   "pygments_lexer": "ipython3",
   "version": "3.7.1"
  }
 },
 "nbformat": 4,
 "nbformat_minor": 4
}
